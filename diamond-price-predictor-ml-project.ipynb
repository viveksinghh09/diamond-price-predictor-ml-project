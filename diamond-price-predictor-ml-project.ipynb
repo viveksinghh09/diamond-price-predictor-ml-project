{
 "cells": [
  {
   "cell_type": "markdown",
   "id": "ae10c5ae-6d8a-4465-bf3a-78bd814a3657",
   "metadata": {},
   "source": [
    "# Read Dataset"
   ]
  },
  {
   "cell_type": "code",
   "execution_count": null,
   "id": "f466eaa4-681d-4396-acc9-c9e76a40b933",
   "metadata": {},
   "outputs": [],
   "source": [
    "import pandas as pd\n",
    "from sklearn.linear_model import LinearRegression\n",
    "from sklearn.preprocessing import OneHotEncoder\n",
    "import matplotlib.pyplot as plt\n",
    "import seaborn as sns\n",
    "import numpy as np"
   ]
  },
  {
   "cell_type": "code",
   "execution_count": null,
   "id": "85929154-2edf-4994-801f-68e70dd72619",
   "metadata": {},
   "outputs": [],
   "source": [
    "train_df = pd.read_csv(\"diamonds train.csv\")\n",
    "test_df = pd.read_csv(\"diamonds test.csv\")"
   ]
  },
  {
   "cell_type": "markdown",
   "id": "b3e02b9c-a566-45d0-9fb0-13bbda398394",
   "metadata": {},
   "source": [
    "# Basic Info & Stats\n"
   ]
  },
  {
   "cell_type": "code",
   "execution_count": null,
   "id": "9e171312-1997-455c-a487-4e6c98d4d3ff",
   "metadata": {},
   "outputs": [],
   "source": [
    "train_df.info()"
   ]
  },
  {
   "cell_type": "code",
   "execution_count": null,
   "id": "7f5b355f-2528-4e3f-8c54-7dcb8d570dcd",
   "metadata": {},
   "outputs": [],
   "source": [
    "test_df.info()"
   ]
  },
  {
   "cell_type": "code",
   "execution_count": null,
   "id": "f33d92e5-d34f-4c14-a7fa-b9a90df5f230",
   "metadata": {},
   "outputs": [],
   "source": [
    "plt.figure(figsize=(8, 4))\n",
    "sns.histplot(train_df['total_sales_price'], kde=True)\n",
    "plt.title('Distribution of Total Sales Price')\n",
    "plt.xlabel('Price')\n",
    "plt.ylabel('Frequency')\n",
    "plt.show()"
   ]
  },
  {
   "cell_type": "code",
   "execution_count": null,
   "id": "e4ad4dd6-34ed-479c-b558-a7117cf31a19",
   "metadata": {},
   "outputs": [],
   "source": [
    "plt.figure(figsize=(8, 4))\n",
    "sns.countplot(data=train_df, x='cut')\n",
    "plt.title('Count of Cut Types')\n",
    "plt.xlabel('Cut')\n",
    "plt.ylabel('Count')\n",
    "plt.show()"
   ]
  },
  {
   "cell_type": "code",
   "execution_count": null,
   "id": "8a6a6c02-308e-42b7-81df-24b0dfe868fc",
   "metadata": {},
   "outputs": [],
   "source": [
    "plt.figure(figsize=(10, 5))\n",
    "sns.boxplot(data=train_df, x='clarity', y='total_sales_price')\n",
    "plt.title('Price by Clarity')\n",
    "plt.xlabel('Clarity')\n",
    "plt.ylabel('Price')\n",
    "plt.xticks(rotation=45)\n",
    "plt.show()"
   ]
  },
  {
   "cell_type": "code",
   "execution_count": null,
   "id": "247b434f-0559-4a15-95c8-bff17815f49e",
   "metadata": {},
   "outputs": [],
   "source": []
  },
  {
   "cell_type": "markdown",
   "id": "5e9394af-b619-4c83-b60d-9a67d1ba62ea",
   "metadata": {},
   "source": [
    "# Drop Irrelevant & Heavy Null Values Column"
   ]
  },
  {
   "cell_type": "code",
   "execution_count": null,
   "id": "2042decb-59a0-4091-9cd4-09ee6eab6a1b",
   "metadata": {},
   "outputs": [],
   "source": [
    "drop_cols = [\n",
    "    'Unnamed: 0',\n",
    "    'fancy_color_dominant_color',\n",
    "    'fancy_color_secondary_color',\n",
    "    'fancy_color_overtone',\n",
    "    'fancy_color_intensity'\n",
    "]\n",
    "\n",
    "train_df = train_df.drop(columns=drop_cols)\n",
    "test_df = test_df.drop(columns=drop_cols)\n"
   ]
  },
  {
   "cell_type": "markdown",
   "id": "f0694f23-918d-49cc-8d6b-7b2f8856f738",
   "metadata": {},
   "source": [
    "### Drop Drop duplicated rows ###"
   ]
  },
  {
   "cell_type": "code",
   "execution_count": null,
   "id": "d330f221-00ff-41d0-bbec-1cc790294206",
   "metadata": {},
   "outputs": [],
   "source": [
    "train_df = train_df.drop_duplicates()"
   ]
  },
  {
   "cell_type": "code",
   "execution_count": null,
   "id": "aebed81c-17b9-4e89-ba97-c9c33d0df0a8",
   "metadata": {},
   "outputs": [],
   "source": []
  },
  {
   "cell_type": "markdown",
   "id": "0948d351-a1a8-4e9a-ad32-d62508480e81",
   "metadata": {},
   "source": [
    "# Replace Outliers with Upper or Lower whisker accordingly"
   ]
  },
  {
   "cell_type": "code",
   "execution_count": null,
   "id": "7b491217-f4cd-433d-a89c-f0279125dcd0",
   "metadata": {},
   "outputs": [],
   "source": [
    "numeric_cols = train_df.select_dtypes(include=['int64', 'float64']).columns\n",
    "\n",
    "for col in numeric_cols:\n",
    "    Q1 = train_df[col].quantile(0.25)\n",
    "    Q3 = train_df[col].quantile(0.75)\n",
    "    IQR = Q3 - Q1\n",
    "    lower = Q1 - 1.5 * IQR\n",
    "    upper = Q3 + 1.5 * IQR\n",
    "    train_df[col] = np.where(train_df[col] < lower, lower,\n",
    "                             np.where(train_df[col] > upper, upper, train_df[col]))\n"
   ]
  },
  {
   "cell_type": "markdown",
   "id": "1c10b3d6-110b-4363-8c45-5c84f483e0b1",
   "metadata": {},
   "source": [
    "# Convert Categorical to Numerical Data"
   ]
  },
  {
   "cell_type": "code",
   "execution_count": null,
   "id": "c950b6ec-4ce4-49a5-9fd3-cc805b2522b6",
   "metadata": {},
   "outputs": [],
   "source": [
    "categorical_cols = train_df.select_dtypes(include='object').columns"
   ]
  },
  {
   "cell_type": "code",
   "execution_count": null,
   "id": "7a7984bb-47a9-4e03-be5c-48e9e2649b30",
   "metadata": {},
   "outputs": [],
   "source": [
    "encoder = OneHotEncoder(handle_unknown='ignore', sparse_output=False)\n",
    "\n",
    "X_cat = pd.DataFrame(encoder.fit_transform(train_df[categorical_cols]))\n",
    "X_cat.columns = encoder.get_feature_names_out(categorical_cols)\n",
    "X_cat.index = train_df.index"
   ]
  },
  {
   "cell_type": "code",
   "execution_count": null,
   "id": "c596c5b8-6139-40df-9f27-0f6ed3155da6",
   "metadata": {},
   "outputs": [],
   "source": [
    "train_df = train_df.drop(columns=categorical_cols)\n",
    "train_df = pd.concat([train_df, X_cat], axis=1)"
   ]
  },
  {
   "cell_type": "code",
   "execution_count": null,
   "id": "57f4494f-193c-435b-8b11-ed02edf2be7c",
   "metadata": {},
   "outputs": [],
   "source": [
    "X_test_cat = pd.DataFrame(encoder.transform(test_df[categorical_cols]))\n",
    "X_test_cat.columns = encoder.get_feature_names_out(categorical_cols)\n",
    "X_test_cat.index = test_df.index"
   ]
  },
  {
   "cell_type": "code",
   "execution_count": null,
   "id": "284ae3bb-b63f-4dc0-8574-a57090df4926",
   "metadata": {},
   "outputs": [],
   "source": [
    "test_df = test_df.drop(columns=categorical_cols)\n",
    "test_df = pd.concat([test_df, X_test_cat], axis=1)"
   ]
  },
  {
   "cell_type": "markdown",
   "id": "27b40110-7142-4f36-a7df-f5f3ee16b372",
   "metadata": {},
   "source": [
    "# Split Data to X & Y"
   ]
  },
  {
   "cell_type": "code",
   "execution_count": null,
   "id": "15959895-247c-401e-a795-fe4ea37b7dc1",
   "metadata": {},
   "outputs": [],
   "source": [
    "X = train_df.drop(columns='total_sales_price')\n",
    "y = train_df['total_sales_price']"
   ]
  },
  {
   "cell_type": "markdown",
   "id": "749dc961-9841-45fd-b1cc-331877940654",
   "metadata": {},
   "source": [
    "# Scale your input Data"
   ]
  },
  {
   "cell_type": "code",
   "execution_count": null,
   "id": "d09cf01d-8fb4-4418-892e-c7e1d414ac4d",
   "metadata": {},
   "outputs": [],
   "source": [
    "from sklearn.preprocessing import StandardScaler\n",
    "\n",
    "scaler = StandardScaler()\n",
    "X_scaled = scaler.fit_transform(X)\n"
   ]
  },
  {
   "cell_type": "markdown",
   "id": "29aa8cf4-56ec-41b5-b5f1-e5e503e2b894",
   "metadata": {},
   "source": [
    "# Train Test Split"
   ]
  },
  {
   "cell_type": "code",
   "execution_count": null,
   "id": "ed548476-42ef-4100-8d77-e6b73b61a48d",
   "metadata": {},
   "outputs": [],
   "source": [
    "from sklearn.model_selection import train_test_split\n",
    "\n",
    "X_train, X_val, y_train, y_val = train_test_split(X_scaled, y, test_size=0.2, random_state=42)\n"
   ]
  },
  {
   "cell_type": "markdown",
   "id": "5d75be19-79cb-4eac-bbaf-7f4a95911896",
   "metadata": {},
   "source": [
    "# Create regression models\n",
    "\n",
    "#### Linear Regression\n",
    "#### Ridge Regression\n",
    "#### Lasso Regression\n",
    "#### Elastic Net Regression\n",
    "#### Decision Tree Regressor\n",
    "#### Random Forest Regressor\n",
    "#### SVR\n",
    "#### Boosting Regressor\n",
    "#### KNN Regressor"
   ]
  },
  {
   "cell_type": "code",
   "execution_count": null,
   "id": "6966191a-e0bd-410e-a2ed-8b1767ea1826",
   "metadata": {},
   "outputs": [],
   "source": [
    "from sklearn.linear_model import LinearRegression, Ridge, Lasso, ElasticNet\n",
    "from sklearn.tree import DecisionTreeRegressor\n",
    "from sklearn.ensemble import RandomForestRegressor, GradientBoostingRegressor\n",
    "from sklearn.svm import SVR\n",
    "from sklearn.neighbors import KNeighborsRegressor\n",
    "\n",
    "models = {\n",
    "    'Linear Regression': LinearRegression(),\n",
    "    'Ridge Regression': Ridge(),\n",
    "    'Lasso Regression': Lasso(),\n",
    "    'Elastic Net': ElasticNet(),\n",
    "    'Decision Tree': DecisionTreeRegressor(),\n",
    "    'Random Forest': RandomForestRegressor(),\n",
    "    'SVR': SVR(),\n",
    "    'Gradient Boosting': GradientBoostingRegressor(),\n",
    "    'KNN Regressor': KNeighborsRegressor()\n",
    "}"
   ]
  },
  {
   "cell_type": "markdown",
   "id": "23ad25a2-d776-4f15-a9e8-33eae23efcb5",
   "metadata": {},
   "source": [
    "# Choose model with lowest RMSE"
   ]
  },
  {
   "cell_type": "code",
   "execution_count": null,
   "id": "c2ae9234-4a18-416f-8377-f88e47f6913f",
   "metadata": {},
   "outputs": [],
   "source": [
    "from sklearn.metrics import mean_squared_error\n",
    "import numpy as np\n",
    "\n",
    "rmse_scores = {}\n",
    "\n",
    "for name, model in models.items():\n",
    "    model.fit(X_train, y_train)\n",
    "    y_pred = model.predict(X_val)\n",
    "    rmse = np.sqrt(mean_squared_error(y_val, y_pred))\n",
    "    rmse_scores[name] = rmse\n",
    "\n",
    "best_model_name = min(rmse_scores, key=rmse_scores.get)\n",
    "best_model = models[best_model_name]\n",
    "\n",
    "print(\"Best Model:\", best_model_name)\n",
    "print(\"RMSE:\", rmse_scores[best_model_name])\n"
   ]
  },
  {
   "cell_type": "markdown",
   "id": "46256ebd-3d9d-48ef-95f7-91a5209a743d",
   "metadata": {},
   "source": [
    "# Save Best Model"
   ]
  },
  {
   "cell_type": "code",
   "execution_count": null,
   "id": "5ce1c44e-79f8-405c-9bec-5fbdb35c4e3f",
   "metadata": {},
   "outputs": [],
   "source": [
    "import joblib\n",
    "\n",
    "joblib.dump(best_model, 'best_model.pkl')\n"
   ]
  },
  {
   "cell_type": "markdown",
   "id": "ee0ce74d-1e43-46f6-a5f0-c70dc3cb82a3",
   "metadata": {},
   "source": [
    "# Predict on testing data "
   ]
  },
  {
   "cell_type": "code",
   "execution_count": null,
   "id": "926501a7-1589-4bc0-90d6-e0448eb08a2b",
   "metadata": {},
   "outputs": [],
   "source": [
    "X_test_scaled = scaler.transform(test_df)\n",
    "test_predictions = best_model.predict(X_test_scaled)\n"
   ]
  },
  {
   "cell_type": "markdown",
   "id": "b13a3fcf-2a5b-4649-9ed7-e20b64af2155",
   "metadata": {},
   "source": [
    "# Save only prediction as .xlsx file"
   ]
  },
  {
   "cell_type": "code",
   "execution_count": null,
   "id": "d278ac91-a3c2-4fd0-8a35-b3f4bc4208af",
   "metadata": {},
   "outputs": [],
   "source": [
    "pd.DataFrame({'Predicted_Price': test_predictions}).to_csv('best_pred.csv', index=False)\n"
   ]
  },
  {
   "cell_type": "code",
   "execution_count": null,
   "id": "23c5ddee-88e7-4f53-b9b5-e8a206e376b4",
   "metadata": {},
   "outputs": [],
   "source": [
    "from sklearn.metrics import mean_squared_error, r2_score\n",
    "loaded_model = joblib.load('best_model.pkl')\n",
    "y_val_pred = loaded_model.predict(X_val)\n",
    "\n",
    "rmse = np.sqrt(mean_squared_error(y_val, y_val_pred))\n",
    "r2 = r2_score(y_val, y_val_pred)\n",
    "\n",
    "print(\"Best Model Performance:\")\n",
    "print(\"RMSE:\", rmse)\n",
    "print(\"R square Score (Accuracy):\", r2)\n"
   ]
  },
  {
   "cell_type": "code",
   "execution_count": null,
   "id": "1423c11f-ef5c-4781-b1cb-66b2bf3d1e4d",
   "metadata": {},
   "outputs": [],
   "source": []
  }
 ],
 "metadata": {
  "kernelspec": {
   "display_name": "Python 3 (ipykernel)",
   "language": "python",
   "name": "python3"
  },
  "language_info": {
   "codemirror_mode": {
    "name": "ipython",
    "version": 3
   },
   "file_extension": ".py",
   "mimetype": "text/x-python",
   "name": "python",
   "nbconvert_exporter": "python",
   "pygments_lexer": "ipython3",
   "version": "3.13.3"
  }
 },
 "nbformat": 4,
 "nbformat_minor": 5
}
